{
  "cells": [
    {
      "cell_type": "code",
      "execution_count": 1,
      "metadata": {
        "id": "XsJJmQDbNwlN"
      },
      "outputs": [],
      "source": [
        "import pandas as pd\n",
        "import seaborn as sns\n",
        "import matplotlib.pyplot as plt\n",
        "import numpy as np\n",
        "import scipy.io as sio"
      ]
    },
    {
      "cell_type": "code",
      "execution_count": 2,
      "metadata": {
        "id": "ANsFSpqLOBtR"
      },
      "outputs": [],
      "source": [
        "matdata = sio.loadmat('/content/mnist-original.mat')\n",
        "df = pd.DataFrame(matdata['data'])\n",
        "\n"
      ]
    },
    {
      "cell_type": "code",
      "execution_count": 3,
      "metadata": {
        "id": "asoBvWe4QMM2",
        "colab": {
          "base_uri": "https://localhost:8080/"
        },
        "outputId": "60cf30ad-c587-458f-f3c3-b9f326caefaa"
      },
      "outputs": [
        {
          "output_type": "execute_result",
          "data": {
            "text/plain": [
              "{'__header__': b'MATLAB 5.0 MAT-file Platform: posix, Created on: Sun Mar 30 03:19:02 2014',\n",
              " '__version__': '1.0',\n",
              " '__globals__': [],\n",
              " 'mldata_descr_ordering': array([[array(['label'], dtype='<U5'), array(['data'], dtype='<U4')]],\n",
              "       dtype=object),\n",
              " 'data': array([[0, 0, 0, ..., 0, 0, 0],\n",
              "        [0, 0, 0, ..., 0, 0, 0],\n",
              "        [0, 0, 0, ..., 0, 0, 0],\n",
              "        ...,\n",
              "        [0, 0, 0, ..., 0, 0, 0],\n",
              "        [0, 0, 0, ..., 0, 0, 0],\n",
              "        [0, 0, 0, ..., 0, 0, 0]], dtype=uint8),\n",
              " 'label': array([[0., 0., 0., ..., 9., 9., 9.]])}"
            ]
          },
          "metadata": {},
          "execution_count": 3
        }
      ],
      "source": [
        "matdata"
      ]
    },
    {
      "cell_type": "code",
      "execution_count": 4,
      "metadata": {
        "id": "HZ2DKOrUQuQp"
      },
      "outputs": [],
      "source": [
        "\n",
        "data = matdata['data']\n",
        "labels = matdata['label']\n",
        "\n",
        "\n",
        "data = data.T\n",
        "\n",
        "\n",
        "df = pd.DataFrame(data)\n",
        "df['label'] = labels[0]"
      ]
    },
    {
      "cell_type": "code",
      "execution_count": 5,
      "metadata": {
        "id": "XCb6Vp8jQ8ee",
        "colab": {
          "base_uri": "https://localhost:8080/",
          "height": 458
        },
        "outputId": "865b6392-9505-4f22-9392-468c6d988a66"
      },
      "outputs": [
        {
          "output_type": "execute_result",
          "data": {
            "text/plain": [
              "0        0\n",
              "1        0\n",
              "2        0\n",
              "3        0\n",
              "4        0\n",
              "        ..\n",
              "780      0\n",
              "781      0\n",
              "782      0\n",
              "783      0\n",
              "label    0\n",
              "Length: 785, dtype: int64"
            ],
            "text/html": [
              "<div>\n",
              "<style scoped>\n",
              "    .dataframe tbody tr th:only-of-type {\n",
              "        vertical-align: middle;\n",
              "    }\n",
              "\n",
              "    .dataframe tbody tr th {\n",
              "        vertical-align: top;\n",
              "    }\n",
              "\n",
              "    .dataframe thead th {\n",
              "        text-align: right;\n",
              "    }\n",
              "</style>\n",
              "<table border=\"1\" class=\"dataframe\">\n",
              "  <thead>\n",
              "    <tr style=\"text-align: right;\">\n",
              "      <th></th>\n",
              "      <th>0</th>\n",
              "    </tr>\n",
              "  </thead>\n",
              "  <tbody>\n",
              "    <tr>\n",
              "      <th>0</th>\n",
              "      <td>0</td>\n",
              "    </tr>\n",
              "    <tr>\n",
              "      <th>1</th>\n",
              "      <td>0</td>\n",
              "    </tr>\n",
              "    <tr>\n",
              "      <th>2</th>\n",
              "      <td>0</td>\n",
              "    </tr>\n",
              "    <tr>\n",
              "      <th>3</th>\n",
              "      <td>0</td>\n",
              "    </tr>\n",
              "    <tr>\n",
              "      <th>4</th>\n",
              "      <td>0</td>\n",
              "    </tr>\n",
              "    <tr>\n",
              "      <th>...</th>\n",
              "      <td>...</td>\n",
              "    </tr>\n",
              "    <tr>\n",
              "      <th>780</th>\n",
              "      <td>0</td>\n",
              "    </tr>\n",
              "    <tr>\n",
              "      <th>781</th>\n",
              "      <td>0</td>\n",
              "    </tr>\n",
              "    <tr>\n",
              "      <th>782</th>\n",
              "      <td>0</td>\n",
              "    </tr>\n",
              "    <tr>\n",
              "      <th>783</th>\n",
              "      <td>0</td>\n",
              "    </tr>\n",
              "    <tr>\n",
              "      <th>label</th>\n",
              "      <td>0</td>\n",
              "    </tr>\n",
              "  </tbody>\n",
              "</table>\n",
              "<p>785 rows × 1 columns</p>\n",
              "</div><br><label><b>dtype:</b> int64</label>"
            ]
          },
          "metadata": {},
          "execution_count": 5
        }
      ],
      "source": [
        "# prompt: check missing value\n",
        "\n",
        "df.isnull().sum()\n"
      ]
    },
    {
      "cell_type": "code",
      "execution_count": 6,
      "metadata": {
        "id": "vWyCFW-zRGti",
        "colab": {
          "base_uri": "https://localhost:8080/",
          "height": 668
        },
        "outputId": "046e3dc4-94a9-4c6e-9d37-55decb55d9c5"
      },
      "outputs": [
        {
          "output_type": "stream",
          "name": "stdout",
          "text": [
            "\n",
            "Outliers in column 0 (using IQR):\n",
            " Series([], Name: 0, dtype: uint8)\n",
            "\n",
            "Outliers in column 0 (using Z-score):\n",
            " Series([], Name: 0, dtype: uint8)\n"
          ]
        },
        {
          "output_type": "display_data",
          "data": {
            "text/plain": [
              "<Figure size 800x600 with 1 Axes>"
            ],
            "image/png": "[encoded data removed]"
          },
          "metadata": {}
        }
      ],
      "source": [
        "\n",
        "\n",
        "# Method 1: Using IQR (Interquartile Range)\n",
        "def find_outliers_iqr(data):\n",
        "    Q1 = data.quantile(0.25)\n",
        "    Q3 = data.quantile(0.75)\n",
        "    IQR = Q3 - Q1\n",
        "    lower_bound = Q1 - 1.5 * IQR\n",
        "    upper_bound = Q3 + 1.5 * IQR\n",
        "    outliers = data[(data < lower_bound) | (data > upper_bound)]\n",
        "    return outliers\n",
        "\n",
        "# Example usage for a single column (replace '0' with the column index you want to check)\n",
        "outliers_column_0 = find_outliers_iqr(df[0])\n",
        "print(\"\\nOutliers in column 0 (using IQR):\\n\", outliers_column_0)\n",
        "\n",
        "# Method 2: Using Z-score\n",
        "from scipy import stats\n",
        "\n",
        "def find_outliers_zscore(data, threshold=3):\n",
        "    z = np.abs(stats.zscore(data))\n",
        "    outliers = data[z > threshold]\n",
        "    return outliers\n",
        "\n",
        "# Example usage for a single column\n",
        "outliers_column_0_zscore = find_outliers_zscore(df[0])\n",
        "print(\"\\nOutliers in column 0 (using Z-score):\\n\", outliers_column_0_zscore)\n",
        "\n",
        "\n",
        "# Visualization (example using boxplot for the first column)\n",
        "plt.figure(figsize=(8, 6))\n",
        "sns.boxplot(x=df[0])\n",
        "plt.title(\"Boxplot of Column 0 to detect outliers\")\n",
        "plt.show()\n",
        "\n"
      ]
    },
    {
      "cell_type": "code",
      "execution_count": 7,
      "metadata": {
        "id": "_jN39MbVRU5A",
        "colab": {
          "base_uri": "https://localhost:8080/"
        },
        "outputId": "84c3e2a1-f06e-49f1-bfee-0cb454de6d6e"
      },
      "outputs": [
        {
          "output_type": "stream",
          "name": "stdout",
          "text": [
            "Accuracy of the Linear SVM model: 0.9156428571428571\n"
          ]
        }
      ],
      "source": [
        "# prompt: import svm linear\n",
        "\n",
        "from sklearn.model_selection import train_test_split\n",
        "from sklearn.svm import LinearSVC\n",
        "from sklearn.metrics import accuracy_score\n",
        "\n",
        "# Assuming 'df' and 'labels' are defined as in your previous code\n",
        "\n",
        "# Prepare the data\n",
        "X = df.drop('label', axis=1)  # Features\n",
        "y = df['label']  # Target variable\n",
        "\n",
        "# Split data into training and testing sets\n",
        "X_train, X_test, y_train, y_test = train_test_split(X, y, test_size=0.2, random_state=42) # 80% train 20% test\n",
        "\n",
        "# Initialize and train the linear SVM model\n",
        "svm_model = LinearSVC(max_iter=10000) # Increased max_iter to ensure convergence. Adjust if needed.\n",
        "svm_model.fit(X_train, y_train)\n",
        "\n",
        "# Make predictions on the test set\n",
        "y_pred = svm_model.predict(X_test)\n",
        "\n",
        "# Evaluate the model\n",
        "accuracy = accuracy_score(y_test, y_pred)\n",
        "print(f\"Accuracy of the Linear SVM model: {accuracy}\")\n"
      ]
    },
    {
      "cell_type": "code",
      "execution_count": 8,
      "metadata": {
        "id": "6vKN_D0uRj5i",
        "colab": {
          "base_uri": "https://localhost:8080/"
        },
        "outputId": "838a5180-c480-4757-9378-5f796caad67d"
      },
      "outputs": [
        {
          "output_type": "stream",
          "name": "stdout",
          "text": [
            "Accuracy of the RBF SVM model: 0.9794285714285714\n"
          ]
        }
      ],
      "source": [
        "# prompt: import svm rbf\n",
        "\n",
        "from sklearn.svm import SVC\n",
        "\n",
        "# Initialize and train the RBF SVM model\n",
        "svm_rbf_model = SVC(kernel='rbf', C=1, gamma='scale') # You can tune C and gamma\n",
        "svm_rbf_model.fit(X_train, y_train)\n",
        "\n",
        "# Make predictions on the test set\n",
        "y_pred_rbf = svm_rbf_model.predict(X_test)\n",
        "\n",
        "# Evaluate the model\n",
        "accuracy_rbf = accuracy_score(y_test, y_pred_rbf)\n",
        "print(f\"Accuracy of the RBF SVM model: {accuracy_rbf}\")\n"
      ]
    },
    {
      "cell_type": "code",
      "source": [
        "# prompt: save using pickle\n",
        "\n",
        "import pickle\n",
        "\n",
        "# Assuming 'svm_rbf_model' is your trained model\n",
        "filename = 'svm_rbf_model.sav'\n",
        "pickle.dump(svm_rbf_model, open(filename, 'wb'))\n"
      ],
      "metadata": {
        "id": "RYh_2TMaKMPO"
      },
      "execution_count": null,
      "outputs": []
    }
  ],
  "metadata": {
    "colab": {
      "provenance": []
    },
    "kernelspec": {
      "display_name": "Python 3",
      "name": "python3"
    },
    "language_info": {
      "name": "python"
    }
  },
  "nbformat": 4,
  "nbformat_minor": 0
}